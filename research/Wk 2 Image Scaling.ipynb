{
 "cells": [
  {
   "cell_type": "markdown",
   "metadata": {},
   "source": [
    "# Converting images to pixels and resizing\n",
    "\n",
    "**Project Goals**\n",
    "\n",
    "1. Using the Pillow library, load an image and convert it into a two dimensional array of r,g,b values (tuples)\n",
    "2. Write a generic function to scale the image down by:\n",
    "    a. averaging the r,g,b values of surrounding pixels\n",
    "    b. converting the r,g,b values to single hex values, then averaging\n",
    "\n",
    "**Progress**\n",
    "\n",
    "Images are loaded using the command:\n",
    "\n",
    "    i = Image.open(\"testImage.jpg\")\n",
    "    \n",
    "The image file is then converted to a 2D list, *px[]*. Each element of the list is a tuple (r,g,b) corresponding to a pixel in the image. The RGB data is sufficient to relay the colour and light/darkness of the pixel.\n",
    "\n",
    "    pixels = i.load()\n",
    "    width, height = i.size\n",
    "    px = []\n",
    "    for x in range(width):\n",
    "        for y in range(height):\n",
    "            cpixel = pixels[x, y]\n",
    "            px.append(cpixel)\n",
    "\n",
    "**Scaling the image**\n",
    "\n",
    "The second part of this project involves scaling an image to 320x320 pixels. Scaling an image involves converting a square of pixels to a single pixel (ex. 2x2 -> 1). Thus the height and the width of images must be a multiple of 320. Images that do not have this property may be cropped to a square image of the right dimensions before being scaled.\n",
    "\n",
    "This program performs 4:1 scaling on a 2D list with *width = height = multiple of 2*\n",
    "*scaledArray()* receives an input array *old* and outputs *new* as a 2D list scaled down 4x\n",
    "    it parses through *new*, and finds the average of the 4 corresponding elements in *old* using *scaleDown4()*\n",
    "*scaleDown4()* receives the lists *new* and *old*, as well as the coordinates within *new* that are being determined\n",
    "    it calls a function *avgTuple()* using the 4 elements in *old* that will be averaged\n",
    "*avgTuple()* takes 4 tuples (of size 3) as inputs and outputs a tuple (also of size 3) of the averages of the other 4"
   ]
  },
  {
   "cell_type": "code",
   "execution_count": 2,
   "metadata": {},
   "outputs": [
    {
     "name": "stdout",
     "output_type": "stream",
     "text": [
      "[[(0, 0, 0), (0, 1, 1), (0, 2, 2), (0, 3, 3)], [(1, 0, 1), (1, 1, 2), (1, 2, 3), (1, 3, 4)], [(2, 0, 2), (2, 1, 3), (2, 2, 4), (2, 3, 5)], [(3, 0, 3), (3, 1, 4), (3, 2, 5), (3, 3, 6)]]\n",
      "---4:1 conversion---\n",
      "[[[0.5, 0.5, 1.0], [0.5, 2.5, 3.0]], [[2.5, 0.5, 3.0], [2.5, 2.5, 5.0]]]\n"
     ]
    }
   ],
   "source": [
    "def avgTuple(a,b,c,d):\n",
    "    avg = [0]*3\n",
    "    for n in range(3):\n",
    "        avg[n] = (a[n]+b[n]+c[n]+d[n])/4\n",
    "    return (avg[0],avg[1],avg[2])\n",
    "\n",
    "def scaleDown4(x,y,new,old):\n",
    "    new[x][y] = avgTuple(old[2*x][2*y],old[2*x+1][2*y],old[2*x][2*y+1],old[2*x+1][2*y+1])\n",
    "    return new\n",
    "\n",
    "def scaledArray(old):\n",
    "    newSize = int(len(old)/2)\n",
    "    new = [[0] * newSize for i in range(newSize)]\n",
    "    for x in range(newSize):\n",
    "        for y in range(newSize):\n",
    "            new = scaleDown4(x,y,two,four)\n",
    "    return new\n",
    "\n",
    "four = [[0] * 4 for i in range(4)]\n",
    "for x in range(4):\n",
    "    for y in range(4):\n",
    "        four[x][y] = (x,y,x+y)\n",
    "\n",
    "two = [[0] * 2 for i in range(2)]\n",
    "two = scaledArray(four)\n",
    "\n",
    "print(four)\n",
    "print('---4:1 conversion---')\n",
    "print(two)"
   ]
  },
  {
   "cell_type": "markdown",
   "metadata": {},
   "source": [
    "**Conclusion**\n",
    "\n",
    "Some errors in the main program prevented the scaling of an actual image. However, it may work with additional formatting of the pixel list.\n",
    "\n",
    "The *scaledArray()* function averages based on the (r,g,b) values.\n",
    "Averaging the hex values may prove to be less effective, because they do not value each colour evenly\n",
    "\n",
    "*example* (255,127,128) converted to hex is (ff,0f,10). This corresponds to a hex code of 0xff0f10\n",
    "           The average of any collection of hex codes would place heavy emphasis on the red values (the most-significant digits)\n",
    "           and the blue and green values could appear seemingly 'random'.\n",
    "\n",
    "A way around this is to deconstruct the hex code, average the three parts individually, and reconstruct it. Averaging tuples has fewer steps, and thus is a simpler option.\n",
    "Averaging hex codes is only valuable if you want to store your values as hex codes instead of tuples."
   ]
  }
 ],
 "metadata": {
  "kernelspec": {
   "display_name": "Python 3",
   "language": "python",
   "name": "python3"
  },
  "language_info": {
   "codemirror_mode": {
    "name": "ipython",
    "version": 3
   },
   "file_extension": ".py",
   "mimetype": "text/x-python",
   "name": "python",
   "nbconvert_exporter": "python",
   "pygments_lexer": "ipython3",
   "version": "3.7.0"
  }
 },
 "nbformat": 4,
 "nbformat_minor": 2
}
