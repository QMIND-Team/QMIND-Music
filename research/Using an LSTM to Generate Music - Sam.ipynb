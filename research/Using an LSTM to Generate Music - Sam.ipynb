{
 "cells": [
  {
   "cell_type": "markdown",
   "metadata": {},
   "source": [
    "# How to Use an LSTM to Generate Music\n",
    "\n",
    "## What we will be using:\n",
    "\n",
    "### RNNs (Recurrent Neural Networks)\n",
    "- Class of neural networks that use sequential information\n",
    "- The outputs of each element in a sequence is dependent on previous computations\n",
    "#### LSTM\n",
    "- A type of RNN that uses gradient decent to recognize and remember long term patterns\n",
    "    - This is very useful for projects involving text or music generation, and thus will be used for our project\n",
    "\n",
    "### Music21\n",
    "- Python toolkit that you can use to generate a musical notation of MIDI files \n",
    "    - This is useful because MIDI files on their own are hard to read/analyze\n",
    "### Keras\n",
    "- Can be usex to create and train the LSTM model\n",
    "- API that simplifies interactions with tensorflow\n",
    "\n",
    "\n",
    "## Setting up and Training LSTM Model\n",
    "\n",
    "### Data\n",
    "- First we have to teach the neural network how to analyze the given data\n",
    "    - MIDI files will be used as data for generating music\n",
    "- Using Music21, the data from the MIDI files can be split up into notes and chords, containing info about:\n",
    "    - Pitch: The frequency of the sound, represented by letters\n",
    "    - Octave: Which set of pitches being used\n",
    "    - Offset: The location in time where the note is\n",
    "        - Simplify the model by ignoring varying offsets and assuming all note have a 0.5 interval between them\n",
    "- The data can be stored in an array using the converter.parse function in Music21\n",
    "- A mapping function will be used to convert the string-based data into integer-based data\n",
    "    - NNs perform better with int-based data\n",
    "\n",
    "### Model\n",
    "The Model will use four types of layers:\n",
    "- LSTM layers: takes a sequence and returns a boolean value\n",
    "- Dropout layers: sets a fraction of input units to 0 to prevent over fitting\n",
    "- Dense/Fully Connected layers: layers where each input node is connected to each output node\n",
    "- Activation layer:determines what function to use to calculate the output of a node\n",
    "\n",
    "\n"
   ]
  },
  {
   "cell_type": "code",
   "execution_count": null,
   "metadata": {},
   "outputs": [],
   "source": []
  }
 ],
 "metadata": {
  "kernelspec": {
   "display_name": "Python 3",
   "language": "python",
   "name": "python3"
  },
  "language_info": {
   "codemirror_mode": {
    "name": "ipython",
    "version": 3
   },
   "file_extension": ".py",
   "mimetype": "text/x-python",
   "name": "python",
   "nbconvert_exporter": "python",
   "pygments_lexer": "ipython3",
   "version": "3.7.0"
  }
 },
 "nbformat": 4,
 "nbformat_minor": 2
}
