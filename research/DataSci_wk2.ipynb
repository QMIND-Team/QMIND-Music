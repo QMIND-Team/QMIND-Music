{
 "cells": [
  {
   "cell_type": "markdown",
   "metadata": {},
   "source": [
    "### Access spotify's API to get the album artwork (jpeg) and the 30-second song clip (mp3)\n",
    "Jill Bennett, January 20, 2019"
   ]
  },
  {
   "cell_type": "code",
   "execution_count": 5,
   "metadata": {},
   "outputs": [],
   "source": [
    "from spotify_api_client import get, search, search_all\n",
    "import requests\n",
    "\n",
    "#this function accepts a search query for a song and the location to store the files\n",
    "def albumArt(song, location):\n",
    "    n = 0 #initialize variable for index of list\n",
    "    good_search = False #have not yet found search result with 30-second preview\n",
    "\n",
    "    response = search_all(song, 'track') #returns song IDs of first 20 search results in an array of strings\n",
    "    \n",
    "    while good_search == False:\n",
    "        song_data = get(f'v1/tracks/{response[n]}') #returns dictionary with all 'tracks' info of 1st search result\n",
    "        preview_URL = song_data['preview_url'] #get the song preview url\n",
    "        if preview_URL == None: #check if the song has a preview clip\n",
    "            print(f'Search result {n} had no preview.') #if not, tell the user and move to the next ID in the list\n",
    "            n = n + 1\n",
    "        if preview_URL != None: #if there is a URL, tell the user which search result it was and break the while loop\n",
    "            good_search = True\n",
    "            print(f'Search result {n} had a preview available.')\n",
    "            print(f'song ID: {response[n]}')\n",
    "\n",
    "    album = song_data['album']['id'] #get the ID of the album that the song was on\n",
    "    album_data = get(f'v1/albums/{album}') #returns dictionary with all 'album' info\n",
    "    art_URL = album_data['images'][1]['url'] #return the first url to the album artwork\n",
    "\n",
    "    #print(preview_URL, art_URL)\n",
    "    \n",
    "    #use 'requests' library to download the files, place in specified location\n",
    "    r = requests.get(str(preview_URL), allow_redirects=True)\n",
    "    open(f'{location}{song}_preview.mp3', 'wb').write(r.content)\n",
    "\n",
    "    r = requests.get(str(art_URL), allow_redirects=True)\n",
    "    open(f'{location}{song}_art.jpeg', 'wb').write(r.content)"
   ]
  },
  {
   "cell_type": "markdown",
   "metadata": {},
   "source": [
    "#### Different option: This function accepts song IDs directly"
   ]
  },
  {
   "cell_type": "code",
   "execution_count": 6,
   "metadata": {},
   "outputs": [],
   "source": [
    "def albumArt_ID(songID, location):\n",
    "\n",
    "    song_data = get(f'v1/tracks/{songID}') #returns dictionary with all 'tracks' info of the song\n",
    "    preview_URL = song_data['preview_url'] #get the song preview url\n",
    "\n",
    "    if preview_URL == None:\n",
    "        print('This song had no available 30 second preview.')\n",
    "\n",
    "    elif preview_URL != None: #download the preview clip to the specified location\n",
    "        r = requests.get(str(preview_URL), allow_redirects=True)\n",
    "        open(f'{location}{songID}_preview.mp3', 'wb').write(r.content)\n",
    "        print('Preview downloaded.')\n",
    "\n",
    "    album = song_data['album']['id'] #get the ID of the album that the song was on\n",
    "    album_data = get(f'v1/albums/{album}') #returns dictionary with all 'album' info\n",
    "    art_URL = album_data['images'][1]['url'] #return the first url to the album artwork\n",
    "\n",
    "    #print(preview_URL, art_URL)\n",
    "    \n",
    "    #use 'requests' library to download the image, place in specified location\n",
    "    r = requests.get(str(art_URL), allow_redirects=True)\n",
    "    open(f'{location}{songID}_art.jpeg', 'wb').write(r.content)\n",
    "    print('Artwork downloaded.')"
   ]
  },
  {
   "cell_type": "markdown",
   "metadata": {},
   "source": [
    "### Running the Functions"
   ]
  },
  {
   "cell_type": "code",
   "execution_count": 4,
   "metadata": {},
   "outputs": [
    {
     "name": "stdout",
     "output_type": "stream",
     "text": [
      "Search result 0 had a preview available.\n",
      "song ID: 0cCUElvbEFyhoBclyL3700\n"
     ]
    }
   ],
   "source": [
    "my_location = '/Users/Jill/Downloads/' #specify where the files should be placed\n",
    "#not specifying a location will download the files onto the workspace file for this code\n",
    "\n",
    "albumArt('I\\'m Torn Up st. paul', my_location) #run the function (specify desired song)\n",
    "#example ID: 2qKTOaX1ZeMWn3aKhpxkz5 (Ariel Pink, Round and Round)\n",
    "#albumArt_ID('189HvfTbCGUtpKdVNnRHHd', my_location) #run the function (specify song ID)"
   ]
  },
  {
   "cell_type": "code",
   "execution_count": null,
   "metadata": {},
   "outputs": [],
   "source": []
  }
 ],
 "metadata": {
  "kernelspec": {
   "display_name": "Python 3",
   "language": "python",
   "name": "python3"
  },
  "language_info": {
   "codemirror_mode": {
    "name": "ipython",
    "version": 3
   },
   "file_extension": ".py",
   "mimetype": "text/x-python",
   "name": "python",
   "nbconvert_exporter": "python",
   "pygments_lexer": "ipython3",
   "version": "3.7.0"
  }
 },
 "nbformat": 4,
 "nbformat_minor": 2
}
