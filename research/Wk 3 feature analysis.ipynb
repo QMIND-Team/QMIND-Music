{
 "cells": [
  {
   "cell_type": "markdown",
   "metadata": {},
   "source": [
    "# Extracting Image Features\n",
    "\n",
    "**Project goals\n",
    "\n",
    "1) Provide a brief summary on what KAZE actually is\n",
    "2) Use the KAZE_Create method in OpenCV to use KAZE on the following three images and note your findings\n",
    "3) Decide on a model for images, ie. how will we convert images into arrays so they are useable with our neural network (will most likely involve this week's research, last week's research or a combination of both)\n",
    "\n",
    "**What are image features?\n",
    "\n",
    "Image features are parts of an image that can be used to distinguish it to a human or a computer. Features range from edges (distinct boundaries between two colours) to entire objects that can be classified individually. A black cat against a white background would have several edges and a cat's eye as features. From this information, you can determine what is in the image.\n",
    "\n",
    "Features can be extracted from images by finding key points and assigning them descriptive vectors. The cat eye would be a key point in the black cat image, because it is distinct from its surroundings of black fur. The vector would be assigned to the centroid of the eye. Each edge would also be assigned a vector.\n",
    "\n",
    "Descriptive vectors can be used in operations to compare or classify images. As such, each vector must be the same length.\n",
    "\n",
    "KAZE is a an algorithm that uses \"non-linear diffusion filtering\" to detect edges. This paper describes the mathematics behind the KAZE algorithm: http://www.robesafe.com/personal/pablo.alcantarilla/papers/Alcantarilla12eccv.pdf"
   ]
  }
 ],
 "metadata": {
  "kernelspec": {
   "display_name": "Python 3",
   "language": "python",
   "name": "python3"
  },
  "language_info": {
   "codemirror_mode": {
    "name": "ipython",
    "version": 3
   },
   "file_extension": ".py",
   "mimetype": "text/x-python",
   "name": "python",
   "nbconvert_exporter": "python",
   "pygments_lexer": "ipython3",
   "version": "3.7.0"
  }
 },
 "nbformat": 4,
 "nbformat_minor": 2
}
